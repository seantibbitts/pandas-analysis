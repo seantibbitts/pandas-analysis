{
 "cells": [
  {
   "cell_type": "markdown",
   "metadata": {},
   "source": [
    "### Heroes Of Pymoli Data Analysis\n",
    "* Only 14% of the players are women, which is a bit surprising given that women generally play RPGs at higher rates than that. (https://quanticfoundry.com/2017/01/19/female-gamers-by-genre/)\n",
    "* The top spender in the game, Lisosia93, has only spent \\\\$18.96, which is also suprising, since one generally assumes that about 5\\% of spenders in F2P games will be \"whales\", or players who spend over \\\\$100 over their lifetime in the game. (https://deltadna.com/blog/how-whales-spend/) This may be a new game, though.\n",
    "* The average total purchase per person is highest in the 35-40 age range, which is not particularly surprising. But second place goes to the <10 age range. Perhaps this is because their parents (who are perhaps making the purchases) tend to be 35-40?\n",
    "-----"
   ]
  },
  {
   "cell_type": "code",
   "execution_count": 1,
   "metadata": {},
   "outputs": [],
   "source": [
    "# Dependencies and Setup\n",
    "import pandas as pd\n",
    "import numpy as np\n",
    "\n",
    "# File to Load (Remember to Change These)\n",
    "file = \"Resources/purchase_data.csv\"\n",
    "\n",
    "# Read Purchasing File and store into Pandas data frame\n",
    "purchase_data = pd.read_csv(file)"
   ]
  },
  {
   "cell_type": "code",
   "execution_count": 2,
   "metadata": {},
   "outputs": [
    {
     "data": {
      "text/html": [
       "<div>\n",
       "<style scoped>\n",
       "    .dataframe tbody tr th:only-of-type {\n",
       "        vertical-align: middle;\n",
       "    }\n",
       "\n",
       "    .dataframe tbody tr th {\n",
       "        vertical-align: top;\n",
       "    }\n",
       "\n",
       "    .dataframe thead th {\n",
       "        text-align: right;\n",
       "    }\n",
       "</style>\n",
       "<table border=\"1\" class=\"dataframe\">\n",
       "  <thead>\n",
       "    <tr style=\"text-align: right;\">\n",
       "      <th></th>\n",
       "      <th>Purchase ID</th>\n",
       "      <th>SN</th>\n",
       "      <th>Age</th>\n",
       "      <th>Gender</th>\n",
       "      <th>Item ID</th>\n",
       "      <th>Item Name</th>\n",
       "      <th>Price</th>\n",
       "    </tr>\n",
       "  </thead>\n",
       "  <tbody>\n",
       "    <tr>\n",
       "      <th>0</th>\n",
       "      <td>0</td>\n",
       "      <td>Lisim78</td>\n",
       "      <td>20</td>\n",
       "      <td>Male</td>\n",
       "      <td>108</td>\n",
       "      <td>Extraction, Quickblade Of Trembling Hands</td>\n",
       "      <td>3.53</td>\n",
       "    </tr>\n",
       "    <tr>\n",
       "      <th>1</th>\n",
       "      <td>1</td>\n",
       "      <td>Lisovynya38</td>\n",
       "      <td>40</td>\n",
       "      <td>Male</td>\n",
       "      <td>143</td>\n",
       "      <td>Frenzied Scimitar</td>\n",
       "      <td>1.56</td>\n",
       "    </tr>\n",
       "    <tr>\n",
       "      <th>2</th>\n",
       "      <td>2</td>\n",
       "      <td>Ithergue48</td>\n",
       "      <td>24</td>\n",
       "      <td>Male</td>\n",
       "      <td>92</td>\n",
       "      <td>Final Critic</td>\n",
       "      <td>4.88</td>\n",
       "    </tr>\n",
       "    <tr>\n",
       "      <th>3</th>\n",
       "      <td>3</td>\n",
       "      <td>Chamassasya86</td>\n",
       "      <td>24</td>\n",
       "      <td>Male</td>\n",
       "      <td>100</td>\n",
       "      <td>Blindscythe</td>\n",
       "      <td>3.27</td>\n",
       "    </tr>\n",
       "    <tr>\n",
       "      <th>4</th>\n",
       "      <td>4</td>\n",
       "      <td>Iskosia90</td>\n",
       "      <td>23</td>\n",
       "      <td>Male</td>\n",
       "      <td>131</td>\n",
       "      <td>Fury</td>\n",
       "      <td>1.44</td>\n",
       "    </tr>\n",
       "  </tbody>\n",
       "</table>\n",
       "</div>"
      ],
      "text/plain": [
       "   Purchase ID             SN  Age Gender  Item ID  \\\n",
       "0            0        Lisim78   20   Male      108   \n",
       "1            1    Lisovynya38   40   Male      143   \n",
       "2            2     Ithergue48   24   Male       92   \n",
       "3            3  Chamassasya86   24   Male      100   \n",
       "4            4      Iskosia90   23   Male      131   \n",
       "\n",
       "                                   Item Name  Price  \n",
       "0  Extraction, Quickblade Of Trembling Hands   3.53  \n",
       "1                          Frenzied Scimitar   1.56  \n",
       "2                               Final Critic   4.88  \n",
       "3                                Blindscythe   3.27  \n",
       "4                                       Fury   1.44  "
      ]
     },
     "execution_count": 2,
     "metadata": {},
     "output_type": "execute_result"
    }
   ],
   "source": [
    "purchase_data.head()"
   ]
  },
  {
   "cell_type": "markdown",
   "metadata": {},
   "source": [
    "## Player Count"
   ]
  },
  {
   "cell_type": "code",
   "execution_count": 3,
   "metadata": {},
   "outputs": [
    {
     "data": {
      "text/html": [
       "<div>\n",
       "<style scoped>\n",
       "    .dataframe tbody tr th:only-of-type {\n",
       "        vertical-align: middle;\n",
       "    }\n",
       "\n",
       "    .dataframe tbody tr th {\n",
       "        vertical-align: top;\n",
       "    }\n",
       "\n",
       "    .dataframe thead th {\n",
       "        text-align: right;\n",
       "    }\n",
       "</style>\n",
       "<table border=\"1\" class=\"dataframe\">\n",
       "  <thead>\n",
       "    <tr style=\"text-align: right;\">\n",
       "      <th></th>\n",
       "      <th>Total Players</th>\n",
       "    </tr>\n",
       "  </thead>\n",
       "  <tbody>\n",
       "    <tr>\n",
       "      <th>0</th>\n",
       "      <td>576</td>\n",
       "    </tr>\n",
       "  </tbody>\n",
       "</table>\n",
       "</div>"
      ],
      "text/plain": [
       "   Total Players\n",
       "0            576"
      ]
     },
     "execution_count": 3,
     "metadata": {},
     "output_type": "execute_result"
    }
   ],
   "source": [
    "pd.DataFrame(purchase_data['SN'].nunique(), index = [0], columns = ['Total Players'])"
   ]
  },
  {
   "cell_type": "markdown",
   "metadata": {},
   "source": [
    "## Purchasing Analysis (Total)"
   ]
  },
  {
   "cell_type": "code",
   "execution_count": 4,
   "metadata": {},
   "outputs": [
    {
     "data": {
      "text/plain": [
       "3.0433879781420767"
      ]
     },
     "execution_count": 4,
     "metadata": {},
     "output_type": "execute_result"
    }
   ],
   "source": [
    "purchase_data[['Item ID','Price']].drop_duplicates()['Price'].mean()"
   ]
  },
  {
   "cell_type": "code",
   "execution_count": 38,
   "metadata": {},
   "outputs": [
    {
     "data": {
      "text/html": [
       "<style  type=\"text/css\" >\n",
       "</style>  \n",
       "<table id=\"T_ee630b54_4ac3_11e9_bfad_acde48001122\" > \n",
       "<thead>    <tr> \n",
       "        <th class=\"blank level0\" ></th> \n",
       "        <th class=\"col_heading level0 col0\" >Number of Unique Items</th> \n",
       "        <th class=\"col_heading level0 col1\" >Average Price</th> \n",
       "        <th class=\"col_heading level0 col2\" >Number of Purchases</th> \n",
       "        <th class=\"col_heading level0 col3\" >Total Revenue</th> \n",
       "    </tr></thead> \n",
       "<tbody>    <tr> \n",
       "        <th id=\"T_ee630b54_4ac3_11e9_bfad_acde48001122level0_row0\" class=\"row_heading level0 row0\" >0</th> \n",
       "        <td id=\"T_ee630b54_4ac3_11e9_bfad_acde48001122row0_col0\" class=\"data row0 col0\" >183</td> \n",
       "        <td id=\"T_ee630b54_4ac3_11e9_bfad_acde48001122row0_col1\" class=\"data row0 col1\" >$3.05</td> \n",
       "        <td id=\"T_ee630b54_4ac3_11e9_bfad_acde48001122row0_col2\" class=\"data row0 col2\" >780</td> \n",
       "        <td id=\"T_ee630b54_4ac3_11e9_bfad_acde48001122row0_col3\" class=\"data row0 col3\" >$2,379.77</td> \n",
       "    </tr></tbody> \n",
       "</table> "
      ],
      "text/plain": [
       "<pandas.io.formats.style.Styler at 0x116d3d978>"
      ]
     },
     "execution_count": 38,
     "metadata": {},
     "output_type": "execute_result"
    }
   ],
   "source": [
    "unique_items = purchase_data['Item ID'].nunique()\n",
    "avg_price = purchase_data['Price'].mean() # This is the mean price over all purchases\n",
    "# To get the mean price over unique items you would do something like:\n",
    "# purchase_data[['Item ID','Price']].drop_duplicates()['Price'].mean()\n",
    "# which is slightly lower\n",
    "num_purchases = purchase_data['Purchase ID'].count()\n",
    "total_revenue = purchase_data['Price'].sum()\n",
    "\n",
    "pd.DataFrame({'Number of Unique Items':unique_items,'Average Price':avg_price,\n",
    "              'Number of Purchases':num_purchases,\n",
    "              'Total Revenue':total_revenue}, index = [0])\\\n",
    ".style.format('${:,.2f}', subset = ['Average Price','Total Revenue'])"
   ]
  },
  {
   "cell_type": "markdown",
   "metadata": {},
   "source": [
    "## Gender Demographics"
   ]
  },
  {
   "cell_type": "code",
   "execution_count": 10,
   "metadata": {},
   "outputs": [
    {
     "data": {
      "text/html": [
       "<div>\n",
       "<style scoped>\n",
       "    .dataframe tbody tr th:only-of-type {\n",
       "        vertical-align: middle;\n",
       "    }\n",
       "\n",
       "    .dataframe tbody tr th {\n",
       "        vertical-align: top;\n",
       "    }\n",
       "\n",
       "    .dataframe thead th {\n",
       "        text-align: right;\n",
       "    }\n",
       "</style>\n",
       "<table border=\"1\" class=\"dataframe\">\n",
       "  <thead>\n",
       "    <tr style=\"text-align: right;\">\n",
       "      <th></th>\n",
       "      <th>Total Count</th>\n",
       "      <th>Percentage of Players</th>\n",
       "    </tr>\n",
       "    <tr>\n",
       "      <th>Gender</th>\n",
       "      <th></th>\n",
       "      <th></th>\n",
       "    </tr>\n",
       "  </thead>\n",
       "  <tbody>\n",
       "    <tr>\n",
       "      <th>Male</th>\n",
       "      <td>484</td>\n",
       "      <td>84.03</td>\n",
       "    </tr>\n",
       "    <tr>\n",
       "      <th>Female</th>\n",
       "      <td>81</td>\n",
       "      <td>14.06</td>\n",
       "    </tr>\n",
       "    <tr>\n",
       "      <th>Other / Non-Disclosed</th>\n",
       "      <td>11</td>\n",
       "      <td>1.91</td>\n",
       "    </tr>\n",
       "  </tbody>\n",
       "</table>\n",
       "</div>"
      ],
      "text/plain": [
       "                       Total Count  Percentage of Players\n",
       "Gender                                                   \n",
       "Male                           484                  84.03\n",
       "Female                          81                  14.06\n",
       "Other / Non-Disclosed           11                   1.91"
      ]
     },
     "execution_count": 10,
     "metadata": {},
     "output_type": "execute_result"
    }
   ],
   "source": [
    "purchase_data.pivot_table(index = 'Gender', values = 'SN', aggfunc = pd.Series.nunique)\\\n",
    ".sort_values('SN',ascending = False)\\\n",
    ".assign(perc_players = lambda x: 100*np.round(x['SN'] / x['SN'].sum(),4))\\\n",
    ".rename(columns = {'SN':'Total Count','perc_players':'Percentage of Players'})"
   ]
  },
  {
   "cell_type": "markdown",
   "metadata": {},
   "source": [
    "\n",
    "## Purchasing Analysis (Gender)"
   ]
  },
  {
   "cell_type": "code",
   "execution_count": 40,
   "metadata": {},
   "outputs": [
    {
     "data": {
      "text/html": [
       "<style  type=\"text/css\" >\n",
       "</style>  \n",
       "<table id=\"T_4bcfa1ee_4ac4_11e9_bfad_acde48001122\" > \n",
       "<thead>    <tr> \n",
       "        <th class=\"blank level0\" ></th> \n",
       "        <th class=\"col_heading level0 col0\" >Purchase Count</th> \n",
       "        <th class=\"col_heading level0 col1\" >Average Purchase Price</th> \n",
       "        <th class=\"col_heading level0 col2\" >Total Purchase Value</th> \n",
       "        <th class=\"col_heading level0 col3\" >Avg Total Purchase per Person</th> \n",
       "    </tr>    <tr> \n",
       "        <th class=\"index_name level0\" >Gender</th> \n",
       "        <th class=\"blank\" ></th> \n",
       "        <th class=\"blank\" ></th> \n",
       "        <th class=\"blank\" ></th> \n",
       "        <th class=\"blank\" ></th> \n",
       "    </tr></thead> \n",
       "<tbody>    <tr> \n",
       "        <th id=\"T_4bcfa1ee_4ac4_11e9_bfad_acde48001122level0_row0\" class=\"row_heading level0 row0\" >Female</th> \n",
       "        <td id=\"T_4bcfa1ee_4ac4_11e9_bfad_acde48001122row0_col0\" class=\"data row0 col0\" >113</td> \n",
       "        <td id=\"T_4bcfa1ee_4ac4_11e9_bfad_acde48001122row0_col1\" class=\"data row0 col1\" >$3.20</td> \n",
       "        <td id=\"T_4bcfa1ee_4ac4_11e9_bfad_acde48001122row0_col2\" class=\"data row0 col2\" >$361.94</td> \n",
       "        <td id=\"T_4bcfa1ee_4ac4_11e9_bfad_acde48001122row0_col3\" class=\"data row0 col3\" >$4.47</td> \n",
       "    </tr>    <tr> \n",
       "        <th id=\"T_4bcfa1ee_4ac4_11e9_bfad_acde48001122level0_row1\" class=\"row_heading level0 row1\" >Male</th> \n",
       "        <td id=\"T_4bcfa1ee_4ac4_11e9_bfad_acde48001122row1_col0\" class=\"data row1 col0\" >652</td> \n",
       "        <td id=\"T_4bcfa1ee_4ac4_11e9_bfad_acde48001122row1_col1\" class=\"data row1 col1\" >$3.02</td> \n",
       "        <td id=\"T_4bcfa1ee_4ac4_11e9_bfad_acde48001122row1_col2\" class=\"data row1 col2\" >$1,967.64</td> \n",
       "        <td id=\"T_4bcfa1ee_4ac4_11e9_bfad_acde48001122row1_col3\" class=\"data row1 col3\" >$4.07</td> \n",
       "    </tr>    <tr> \n",
       "        <th id=\"T_4bcfa1ee_4ac4_11e9_bfad_acde48001122level0_row2\" class=\"row_heading level0 row2\" >Other / Non-Disclosed</th> \n",
       "        <td id=\"T_4bcfa1ee_4ac4_11e9_bfad_acde48001122row2_col0\" class=\"data row2 col0\" >15</td> \n",
       "        <td id=\"T_4bcfa1ee_4ac4_11e9_bfad_acde48001122row2_col1\" class=\"data row2 col1\" >$3.35</td> \n",
       "        <td id=\"T_4bcfa1ee_4ac4_11e9_bfad_acde48001122row2_col2\" class=\"data row2 col2\" >$50.19</td> \n",
       "        <td id=\"T_4bcfa1ee_4ac4_11e9_bfad_acde48001122row2_col3\" class=\"data row2 col3\" >$4.56</td> \n",
       "    </tr></tbody> \n",
       "</table> "
      ],
      "text/plain": [
       "<pandas.io.formats.style.Styler at 0x116e9e6d8>"
      ]
     },
     "execution_count": 40,
     "metadata": {},
     "output_type": "execute_result"
    }
   ],
   "source": [
    "pd.concat([\n",
    "    purchase_data.pivot_table(index = 'Gender', values = 'Purchase ID', aggfunc = 'count')\\\n",
    "    .rename(columns = {'Purchase ID':'Purchase Count'}),\n",
    "    purchase_data.pivot_table(index = 'Gender', values = 'Price', aggfunc = 'mean')\\\n",
    "    .rename(columns = {'Price':'Average Purchase Price'}),\n",
    "    purchase_data.pivot_table(index = 'Gender', values = 'Price', aggfunc = 'sum')\\\n",
    "    .rename(columns = {'Price':'Total Purchase Value'}),\n",
    "    purchase_data.groupby(['Gender','SN'], as_index=False)['Price'].sum().groupby(['Gender'])['Price'].mean()\\\n",
    "    .rename('Avg Total Purchase per Person')\n",
    "], axis = 1)\\\n",
    ".style.format('${:,.2f}',subset=['Average Purchase Price','Total Purchase Value','Avg Total Purchase per Person'])"
   ]
  },
  {
   "cell_type": "markdown",
   "metadata": {},
   "source": [
    "## Age Demographics"
   ]
  },
  {
   "cell_type": "code",
   "execution_count": 12,
   "metadata": {},
   "outputs": [
    {
     "data": {
      "text/html": [
       "<div>\n",
       "<style scoped>\n",
       "    .dataframe tbody tr th:only-of-type {\n",
       "        vertical-align: middle;\n",
       "    }\n",
       "\n",
       "    .dataframe tbody tr th {\n",
       "        vertical-align: top;\n",
       "    }\n",
       "\n",
       "    .dataframe thead th {\n",
       "        text-align: right;\n",
       "    }\n",
       "</style>\n",
       "<table border=\"1\" class=\"dataframe\">\n",
       "  <thead>\n",
       "    <tr style=\"text-align: right;\">\n",
       "      <th></th>\n",
       "      <th>Total Count</th>\n",
       "      <th>Percentage of Players</th>\n",
       "    </tr>\n",
       "  </thead>\n",
       "  <tbody>\n",
       "    <tr>\n",
       "      <th>&lt;10</th>\n",
       "      <td>17</td>\n",
       "      <td>2.95</td>\n",
       "    </tr>\n",
       "    <tr>\n",
       "      <th>10-14</th>\n",
       "      <td>22</td>\n",
       "      <td>3.82</td>\n",
       "    </tr>\n",
       "    <tr>\n",
       "      <th>15-19</th>\n",
       "      <td>107</td>\n",
       "      <td>18.58</td>\n",
       "    </tr>\n",
       "    <tr>\n",
       "      <th>20-24</th>\n",
       "      <td>258</td>\n",
       "      <td>44.79</td>\n",
       "    </tr>\n",
       "    <tr>\n",
       "      <th>25-29</th>\n",
       "      <td>77</td>\n",
       "      <td>13.37</td>\n",
       "    </tr>\n",
       "    <tr>\n",
       "      <th>30-34</th>\n",
       "      <td>52</td>\n",
       "      <td>9.03</td>\n",
       "    </tr>\n",
       "    <tr>\n",
       "      <th>35-39</th>\n",
       "      <td>31</td>\n",
       "      <td>5.38</td>\n",
       "    </tr>\n",
       "    <tr>\n",
       "      <th>40+</th>\n",
       "      <td>12</td>\n",
       "      <td>2.08</td>\n",
       "    </tr>\n",
       "  </tbody>\n",
       "</table>\n",
       "</div>"
      ],
      "text/plain": [
       "       Total Count  Percentage of Players\n",
       "<10             17                   2.95\n",
       "10-14           22                   3.82\n",
       "15-19          107                  18.58\n",
       "20-24          258                  44.79\n",
       "25-29           77                  13.37\n",
       "30-34           52                   9.03\n",
       "35-39           31                   5.38\n",
       "40+             12                   2.08"
      ]
     },
     "execution_count": 12,
     "metadata": {},
     "output_type": "execute_result"
    }
   ],
   "source": [
    "bins = [0, 9, 14, 19, 24, 29, 34, 39, 50]\n",
    "purchase_data['age_bins'] = pd.cut(purchase_data['Age'], bins,\n",
    "                                   labels = ['<10','10-14','15-19','20-24','25-29','30-34','35-39','40+'])\n",
    "purchase_data.groupby('age_bins')['SN'].nunique().to_frame('Total Count')\\\n",
    ".assign(perc_players = lambda x: 100*np.round(x['Total Count'] / x['Total Count'].sum(),4))\\\n",
    ".rename(columns={'perc_players':'Percentage of Players'}).rename_axis(None)"
   ]
  },
  {
   "cell_type": "markdown",
   "metadata": {},
   "source": [
    "## Purchasing Analysis (Age)"
   ]
  },
  {
   "cell_type": "code",
   "execution_count": 41,
   "metadata": {},
   "outputs": [
    {
     "data": {
      "text/html": [
       "<style  type=\"text/css\" >\n",
       "</style>  \n",
       "<table id=\"T_6ce9db24_4ac4_11e9_bfad_acde48001122\" > \n",
       "<thead>    <tr> \n",
       "        <th class=\"blank level0\" ></th> \n",
       "        <th class=\"col_heading level0 col0\" >Purchase Count</th> \n",
       "        <th class=\"col_heading level0 col1\" >Average Purchase Price</th> \n",
       "        <th class=\"col_heading level0 col2\" >Total Purchase Value</th> \n",
       "        <th class=\"col_heading level0 col3\" >Avg Total Purchase per Person</th> \n",
       "    </tr></thead> \n",
       "<tbody>    <tr> \n",
       "        <th id=\"T_6ce9db24_4ac4_11e9_bfad_acde48001122level0_row0\" class=\"row_heading level0 row0\" ><10</th> \n",
       "        <td id=\"T_6ce9db24_4ac4_11e9_bfad_acde48001122row0_col0\" class=\"data row0 col0\" >23</td> \n",
       "        <td id=\"T_6ce9db24_4ac4_11e9_bfad_acde48001122row0_col1\" class=\"data row0 col1\" >$3.35</td> \n",
       "        <td id=\"T_6ce9db24_4ac4_11e9_bfad_acde48001122row0_col2\" class=\"data row0 col2\" >$77.13</td> \n",
       "        <td id=\"T_6ce9db24_4ac4_11e9_bfad_acde48001122row0_col3\" class=\"data row0 col3\" >$4.54</td> \n",
       "    </tr>    <tr> \n",
       "        <th id=\"T_6ce9db24_4ac4_11e9_bfad_acde48001122level0_row1\" class=\"row_heading level0 row1\" >10-14</th> \n",
       "        <td id=\"T_6ce9db24_4ac4_11e9_bfad_acde48001122row1_col0\" class=\"data row1 col0\" >28</td> \n",
       "        <td id=\"T_6ce9db24_4ac4_11e9_bfad_acde48001122row1_col1\" class=\"data row1 col1\" >$2.96</td> \n",
       "        <td id=\"T_6ce9db24_4ac4_11e9_bfad_acde48001122row1_col2\" class=\"data row1 col2\" >$82.78</td> \n",
       "        <td id=\"T_6ce9db24_4ac4_11e9_bfad_acde48001122row1_col3\" class=\"data row1 col3\" >$3.76</td> \n",
       "    </tr>    <tr> \n",
       "        <th id=\"T_6ce9db24_4ac4_11e9_bfad_acde48001122level0_row2\" class=\"row_heading level0 row2\" >15-19</th> \n",
       "        <td id=\"T_6ce9db24_4ac4_11e9_bfad_acde48001122row2_col0\" class=\"data row2 col0\" >136</td> \n",
       "        <td id=\"T_6ce9db24_4ac4_11e9_bfad_acde48001122row2_col1\" class=\"data row2 col1\" >$3.04</td> \n",
       "        <td id=\"T_6ce9db24_4ac4_11e9_bfad_acde48001122row2_col2\" class=\"data row2 col2\" >$412.89</td> \n",
       "        <td id=\"T_6ce9db24_4ac4_11e9_bfad_acde48001122row2_col3\" class=\"data row2 col3\" >$3.86</td> \n",
       "    </tr>    <tr> \n",
       "        <th id=\"T_6ce9db24_4ac4_11e9_bfad_acde48001122level0_row3\" class=\"row_heading level0 row3\" >20-24</th> \n",
       "        <td id=\"T_6ce9db24_4ac4_11e9_bfad_acde48001122row3_col0\" class=\"data row3 col0\" >365</td> \n",
       "        <td id=\"T_6ce9db24_4ac4_11e9_bfad_acde48001122row3_col1\" class=\"data row3 col1\" >$3.05</td> \n",
       "        <td id=\"T_6ce9db24_4ac4_11e9_bfad_acde48001122row3_col2\" class=\"data row3 col2\" >$1,114.06</td> \n",
       "        <td id=\"T_6ce9db24_4ac4_11e9_bfad_acde48001122row3_col3\" class=\"data row3 col3\" >$4.32</td> \n",
       "    </tr>    <tr> \n",
       "        <th id=\"T_6ce9db24_4ac4_11e9_bfad_acde48001122level0_row4\" class=\"row_heading level0 row4\" >25-29</th> \n",
       "        <td id=\"T_6ce9db24_4ac4_11e9_bfad_acde48001122row4_col0\" class=\"data row4 col0\" >101</td> \n",
       "        <td id=\"T_6ce9db24_4ac4_11e9_bfad_acde48001122row4_col1\" class=\"data row4 col1\" >$2.90</td> \n",
       "        <td id=\"T_6ce9db24_4ac4_11e9_bfad_acde48001122row4_col2\" class=\"data row4 col2\" >$293.00</td> \n",
       "        <td id=\"T_6ce9db24_4ac4_11e9_bfad_acde48001122row4_col3\" class=\"data row4 col3\" >$3.81</td> \n",
       "    </tr>    <tr> \n",
       "        <th id=\"T_6ce9db24_4ac4_11e9_bfad_acde48001122level0_row5\" class=\"row_heading level0 row5\" >30-34</th> \n",
       "        <td id=\"T_6ce9db24_4ac4_11e9_bfad_acde48001122row5_col0\" class=\"data row5 col0\" >73</td> \n",
       "        <td id=\"T_6ce9db24_4ac4_11e9_bfad_acde48001122row5_col1\" class=\"data row5 col1\" >$2.93</td> \n",
       "        <td id=\"T_6ce9db24_4ac4_11e9_bfad_acde48001122row5_col2\" class=\"data row5 col2\" >$214.00</td> \n",
       "        <td id=\"T_6ce9db24_4ac4_11e9_bfad_acde48001122row5_col3\" class=\"data row5 col3\" >$4.12</td> \n",
       "    </tr>    <tr> \n",
       "        <th id=\"T_6ce9db24_4ac4_11e9_bfad_acde48001122level0_row6\" class=\"row_heading level0 row6\" >35-39</th> \n",
       "        <td id=\"T_6ce9db24_4ac4_11e9_bfad_acde48001122row6_col0\" class=\"data row6 col0\" >41</td> \n",
       "        <td id=\"T_6ce9db24_4ac4_11e9_bfad_acde48001122row6_col1\" class=\"data row6 col1\" >$3.60</td> \n",
       "        <td id=\"T_6ce9db24_4ac4_11e9_bfad_acde48001122row6_col2\" class=\"data row6 col2\" >$147.67</td> \n",
       "        <td id=\"T_6ce9db24_4ac4_11e9_bfad_acde48001122row6_col3\" class=\"data row6 col3\" >$4.76</td> \n",
       "    </tr>    <tr> \n",
       "        <th id=\"T_6ce9db24_4ac4_11e9_bfad_acde48001122level0_row7\" class=\"row_heading level0 row7\" >40+</th> \n",
       "        <td id=\"T_6ce9db24_4ac4_11e9_bfad_acde48001122row7_col0\" class=\"data row7 col0\" >13</td> \n",
       "        <td id=\"T_6ce9db24_4ac4_11e9_bfad_acde48001122row7_col1\" class=\"data row7 col1\" >$2.94</td> \n",
       "        <td id=\"T_6ce9db24_4ac4_11e9_bfad_acde48001122row7_col2\" class=\"data row7 col2\" >$38.24</td> \n",
       "        <td id=\"T_6ce9db24_4ac4_11e9_bfad_acde48001122row7_col3\" class=\"data row7 col3\" >$3.19</td> \n",
       "    </tr></tbody> \n",
       "</table> "
      ],
      "text/plain": [
       "<pandas.io.formats.style.Styler at 0x1178a46a0>"
      ]
     },
     "execution_count": 41,
     "metadata": {},
     "output_type": "execute_result"
    }
   ],
   "source": [
    "pd.concat([\n",
    "    purchase_data.pivot_table(index = 'age_bins', values = 'Purchase ID', aggfunc = 'count')\\\n",
    "    .rename(columns = {'Purchase ID':'Purchase Count'}),\n",
    "    purchase_data.pivot_table(index = 'age_bins', values = 'Price', aggfunc = 'mean')\\\n",
    "    .rename(columns = {'Price':'Average Purchase Price'}),\n",
    "    purchase_data.pivot_table(index = 'age_bins', values = 'Price', aggfunc = 'sum')\\\n",
    "    .rename(columns = {'Price':'Total Purchase Value'}),\n",
    "    purchase_data.groupby(['age_bins','SN'], as_index=False)['Price'].sum().groupby(['age_bins'])['Price'].mean()\\\n",
    "    .rename('Avg Total Purchase per Person')\n",
    "], axis = 1).rename_axis(None)\\\n",
    ".style.format('${:,.2f}',subset=['Average Purchase Price','Total Purchase Value','Avg Total Purchase per Person'])"
   ]
  },
  {
   "cell_type": "markdown",
   "metadata": {},
   "source": [
    "## Top Spenders"
   ]
  },
  {
   "cell_type": "code",
   "execution_count": 42,
   "metadata": {},
   "outputs": [],
   "source": [
    "top_five_total = purchase_data.groupby('SN')['Price'].sum().sort_values(ascending = False)\\\n",
    ".rename('Total Purchase Value')\\\n",
    ".head()#.map('${:,.2f}'.format)"
   ]
  },
  {
   "cell_type": "code",
   "execution_count": 44,
   "metadata": {},
   "outputs": [
    {
     "data": {
      "text/html": [
       "<style  type=\"text/css\" >\n",
       "</style>  \n",
       "<table id=\"T_9fdd8c88_4ac4_11e9_bfad_acde48001122\" > \n",
       "<thead>    <tr> \n",
       "        <th class=\"blank level0\" ></th> \n",
       "        <th class=\"col_heading level0 col0\" >Purchase Count</th> \n",
       "        <th class=\"col_heading level0 col1\" >Average Purchase Price</th> \n",
       "        <th class=\"col_heading level0 col2\" >Total Purchase Value</th> \n",
       "    </tr>    <tr> \n",
       "        <th class=\"index_name level0\" >SN</th> \n",
       "        <th class=\"blank\" ></th> \n",
       "        <th class=\"blank\" ></th> \n",
       "        <th class=\"blank\" ></th> \n",
       "    </tr></thead> \n",
       "<tbody>    <tr> \n",
       "        <th id=\"T_9fdd8c88_4ac4_11e9_bfad_acde48001122level0_row0\" class=\"row_heading level0 row0\" >Lisosia93</th> \n",
       "        <td id=\"T_9fdd8c88_4ac4_11e9_bfad_acde48001122row0_col0\" class=\"data row0 col0\" >5</td> \n",
       "        <td id=\"T_9fdd8c88_4ac4_11e9_bfad_acde48001122row0_col1\" class=\"data row0 col1\" >$3.79</td> \n",
       "        <td id=\"T_9fdd8c88_4ac4_11e9_bfad_acde48001122row0_col2\" class=\"data row0 col2\" >$18.96</td> \n",
       "    </tr>    <tr> \n",
       "        <th id=\"T_9fdd8c88_4ac4_11e9_bfad_acde48001122level0_row1\" class=\"row_heading level0 row1\" >Idastidru52</th> \n",
       "        <td id=\"T_9fdd8c88_4ac4_11e9_bfad_acde48001122row1_col0\" class=\"data row1 col0\" >4</td> \n",
       "        <td id=\"T_9fdd8c88_4ac4_11e9_bfad_acde48001122row1_col1\" class=\"data row1 col1\" >$3.86</td> \n",
       "        <td id=\"T_9fdd8c88_4ac4_11e9_bfad_acde48001122row1_col2\" class=\"data row1 col2\" >$15.45</td> \n",
       "    </tr>    <tr> \n",
       "        <th id=\"T_9fdd8c88_4ac4_11e9_bfad_acde48001122level0_row2\" class=\"row_heading level0 row2\" >Chamjask73</th> \n",
       "        <td id=\"T_9fdd8c88_4ac4_11e9_bfad_acde48001122row2_col0\" class=\"data row2 col0\" >3</td> \n",
       "        <td id=\"T_9fdd8c88_4ac4_11e9_bfad_acde48001122row2_col1\" class=\"data row2 col1\" >$4.61</td> \n",
       "        <td id=\"T_9fdd8c88_4ac4_11e9_bfad_acde48001122row2_col2\" class=\"data row2 col2\" >$13.83</td> \n",
       "    </tr>    <tr> \n",
       "        <th id=\"T_9fdd8c88_4ac4_11e9_bfad_acde48001122level0_row3\" class=\"row_heading level0 row3\" >Iral74</th> \n",
       "        <td id=\"T_9fdd8c88_4ac4_11e9_bfad_acde48001122row3_col0\" class=\"data row3 col0\" >4</td> \n",
       "        <td id=\"T_9fdd8c88_4ac4_11e9_bfad_acde48001122row3_col1\" class=\"data row3 col1\" >$3.40</td> \n",
       "        <td id=\"T_9fdd8c88_4ac4_11e9_bfad_acde48001122row3_col2\" class=\"data row3 col2\" >$13.62</td> \n",
       "    </tr>    <tr> \n",
       "        <th id=\"T_9fdd8c88_4ac4_11e9_bfad_acde48001122level0_row4\" class=\"row_heading level0 row4\" >Iskadarya95</th> \n",
       "        <td id=\"T_9fdd8c88_4ac4_11e9_bfad_acde48001122row4_col0\" class=\"data row4 col0\" >3</td> \n",
       "        <td id=\"T_9fdd8c88_4ac4_11e9_bfad_acde48001122row4_col1\" class=\"data row4 col1\" >$4.37</td> \n",
       "        <td id=\"T_9fdd8c88_4ac4_11e9_bfad_acde48001122row4_col2\" class=\"data row4 col2\" >$13.10</td> \n",
       "    </tr></tbody> \n",
       "</table> "
      ],
      "text/plain": [
       "<pandas.io.formats.style.Styler at 0x1178a4b00>"
      ]
     },
     "execution_count": 44,
     "metadata": {},
     "output_type": "execute_result"
    }
   ],
   "source": [
    "pd.concat([purchase_data.groupby('SN')['Purchase ID'].count().loc[top_five_total.index].rename('Purchase Count'),\n",
    "           purchase_data.groupby('SN')['Price'].mean().loc[top_five_total.index].rename('Average Purchase Price'),\n",
    "           top_five_total], axis = 1)\\\n",
    ".style.format('${:,.2f}',subset=['Average Purchase Price','Total Purchase Value'])"
   ]
  },
  {
   "cell_type": "markdown",
   "metadata": {},
   "source": [
    "## Most Popular Items"
   ]
  },
  {
   "cell_type": "code",
   "execution_count": 46,
   "metadata": {},
   "outputs": [
    {
     "data": {
      "text/html": [
       "<style  type=\"text/css\" >\n",
       "</style>  \n",
       "<table id=\"T_ca8753c4_4ac4_11e9_bfad_acde48001122\" > \n",
       "<thead>    <tr> \n",
       "        <th class=\"blank\" ></th> \n",
       "        <th class=\"blank level0\" ></th> \n",
       "        <th class=\"col_heading level0 col0\" >Purchase Count</th> \n",
       "        <th class=\"col_heading level0 col1\" >Item Price</th> \n",
       "        <th class=\"col_heading level0 col2\" >Total Purchase Value</th> \n",
       "    </tr>    <tr> \n",
       "        <th class=\"index_name level0\" >Item ID</th> \n",
       "        <th class=\"index_name level1\" >Item Name</th> \n",
       "        <th class=\"blank\" ></th> \n",
       "        <th class=\"blank\" ></th> \n",
       "        <th class=\"blank\" ></th> \n",
       "    </tr></thead> \n",
       "<tbody>    <tr> \n",
       "        <th id=\"T_ca8753c4_4ac4_11e9_bfad_acde48001122level0_row0\" class=\"row_heading level0 row0\" >178</th> \n",
       "        <th id=\"T_ca8753c4_4ac4_11e9_bfad_acde48001122level1_row0\" class=\"row_heading level1 row0\" >Oathbreaker, Last Hope of the Breaking Storm</th> \n",
       "        <td id=\"T_ca8753c4_4ac4_11e9_bfad_acde48001122row0_col0\" class=\"data row0 col0\" >12</td> \n",
       "        <td id=\"T_ca8753c4_4ac4_11e9_bfad_acde48001122row0_col1\" class=\"data row0 col1\" >$4.23</td> \n",
       "        <td id=\"T_ca8753c4_4ac4_11e9_bfad_acde48001122row0_col2\" class=\"data row0 col2\" >$50.76</td> \n",
       "    </tr>    <tr> \n",
       "        <th id=\"T_ca8753c4_4ac4_11e9_bfad_acde48001122level0_row1\" class=\"row_heading level0 row1\" >145</th> \n",
       "        <th id=\"T_ca8753c4_4ac4_11e9_bfad_acde48001122level1_row1\" class=\"row_heading level1 row1\" >Fiery Glass Crusader</th> \n",
       "        <td id=\"T_ca8753c4_4ac4_11e9_bfad_acde48001122row1_col0\" class=\"data row1 col0\" >9</td> \n",
       "        <td id=\"T_ca8753c4_4ac4_11e9_bfad_acde48001122row1_col1\" class=\"data row1 col1\" >$4.58</td> \n",
       "        <td id=\"T_ca8753c4_4ac4_11e9_bfad_acde48001122row1_col2\" class=\"data row1 col2\" >$41.22</td> \n",
       "    </tr>    <tr> \n",
       "        <th id=\"T_ca8753c4_4ac4_11e9_bfad_acde48001122level0_row2\" class=\"row_heading level0 row2\" >108</th> \n",
       "        <th id=\"T_ca8753c4_4ac4_11e9_bfad_acde48001122level1_row2\" class=\"row_heading level1 row2\" >Extraction, Quickblade Of Trembling Hands</th> \n",
       "        <td id=\"T_ca8753c4_4ac4_11e9_bfad_acde48001122row2_col0\" class=\"data row2 col0\" >9</td> \n",
       "        <td id=\"T_ca8753c4_4ac4_11e9_bfad_acde48001122row2_col1\" class=\"data row2 col1\" >$3.53</td> \n",
       "        <td id=\"T_ca8753c4_4ac4_11e9_bfad_acde48001122row2_col2\" class=\"data row2 col2\" >$31.77</td> \n",
       "    </tr>    <tr> \n",
       "        <th id=\"T_ca8753c4_4ac4_11e9_bfad_acde48001122level0_row3\" class=\"row_heading level0 row3\" >82</th> \n",
       "        <th id=\"T_ca8753c4_4ac4_11e9_bfad_acde48001122level1_row3\" class=\"row_heading level1 row3\" >Nirvana</th> \n",
       "        <td id=\"T_ca8753c4_4ac4_11e9_bfad_acde48001122row3_col0\" class=\"data row3 col0\" >9</td> \n",
       "        <td id=\"T_ca8753c4_4ac4_11e9_bfad_acde48001122row3_col1\" class=\"data row3 col1\" >$4.90</td> \n",
       "        <td id=\"T_ca8753c4_4ac4_11e9_bfad_acde48001122row3_col2\" class=\"data row3 col2\" >$44.10</td> \n",
       "    </tr>    <tr> \n",
       "        <th id=\"T_ca8753c4_4ac4_11e9_bfad_acde48001122level0_row4\" class=\"row_heading level0 row4\" >19</th> \n",
       "        <th id=\"T_ca8753c4_4ac4_11e9_bfad_acde48001122level1_row4\" class=\"row_heading level1 row4\" >Pursuit, Cudgel of Necromancy</th> \n",
       "        <td id=\"T_ca8753c4_4ac4_11e9_bfad_acde48001122row4_col0\" class=\"data row4 col0\" >8</td> \n",
       "        <td id=\"T_ca8753c4_4ac4_11e9_bfad_acde48001122row4_col1\" class=\"data row4 col1\" >$1.02</td> \n",
       "        <td id=\"T_ca8753c4_4ac4_11e9_bfad_acde48001122row4_col2\" class=\"data row4 col2\" >$8.16</td> \n",
       "    </tr></tbody> \n",
       "</table> "
      ],
      "text/plain": [
       "<pandas.io.formats.style.Styler at 0x1178a49e8>"
      ]
     },
     "execution_count": 46,
     "metadata": {},
     "output_type": "execute_result"
    }
   ],
   "source": [
    "item_details = purchase_data[['Item ID','Item Name','Price']].groupby(['Item ID','Item Name'])\\\n",
    ".agg(['count','max','sum'])\\\n",
    ".sort_values([('Price','count')], ascending = False)\n",
    "\n",
    "item_details.columns = ['Purchase Count','Item Price','Total Purchase Value']\n",
    "\n",
    "item_details.head().style.format('${:,.2f}',subset=['Item Price','Total Purchase Value'])\n",
    "\n",
    "# item_details_formatted = item_details.copy()\n",
    "# item_details_formatted['Item Price'] = item_details_formatted['Item Price'].map('${:,.2f}'.format)\n",
    "# item_details_formatted['Total Purchase Value'] = item_details_formatted['Total Purchase Value'].map('${:,.2f}'.format)\n",
    "# item_details_formatted.head()"
   ]
  },
  {
   "cell_type": "markdown",
   "metadata": {},
   "source": [
    "## Most Profitable Items"
   ]
  },
  {
   "cell_type": "code",
   "execution_count": 48,
   "metadata": {},
   "outputs": [
    {
     "data": {
      "text/html": [
       "<style  type=\"text/css\" >\n",
       "</style>  \n",
       "<table id=\"T_ea0e5b48_4ac4_11e9_bfad_acde48001122\" > \n",
       "<thead>    <tr> \n",
       "        <th class=\"blank\" ></th> \n",
       "        <th class=\"blank level0\" ></th> \n",
       "        <th class=\"col_heading level0 col0\" >Purchase Count</th> \n",
       "        <th class=\"col_heading level0 col1\" >Item Price</th> \n",
       "        <th class=\"col_heading level0 col2\" >Total Purchase Value</th> \n",
       "    </tr>    <tr> \n",
       "        <th class=\"index_name level0\" >Item ID</th> \n",
       "        <th class=\"index_name level1\" >Item Name</th> \n",
       "        <th class=\"blank\" ></th> \n",
       "        <th class=\"blank\" ></th> \n",
       "        <th class=\"blank\" ></th> \n",
       "    </tr></thead> \n",
       "<tbody>    <tr> \n",
       "        <th id=\"T_ea0e5b48_4ac4_11e9_bfad_acde48001122level0_row0\" class=\"row_heading level0 row0\" >178</th> \n",
       "        <th id=\"T_ea0e5b48_4ac4_11e9_bfad_acde48001122level1_row0\" class=\"row_heading level1 row0\" >Oathbreaker, Last Hope of the Breaking Storm</th> \n",
       "        <td id=\"T_ea0e5b48_4ac4_11e9_bfad_acde48001122row0_col0\" class=\"data row0 col0\" >12</td> \n",
       "        <td id=\"T_ea0e5b48_4ac4_11e9_bfad_acde48001122row0_col1\" class=\"data row0 col1\" >$4.23</td> \n",
       "        <td id=\"T_ea0e5b48_4ac4_11e9_bfad_acde48001122row0_col2\" class=\"data row0 col2\" >$50.76</td> \n",
       "    </tr>    <tr> \n",
       "        <th id=\"T_ea0e5b48_4ac4_11e9_bfad_acde48001122level0_row1\" class=\"row_heading level0 row1\" >82</th> \n",
       "        <th id=\"T_ea0e5b48_4ac4_11e9_bfad_acde48001122level1_row1\" class=\"row_heading level1 row1\" >Nirvana</th> \n",
       "        <td id=\"T_ea0e5b48_4ac4_11e9_bfad_acde48001122row1_col0\" class=\"data row1 col0\" >9</td> \n",
       "        <td id=\"T_ea0e5b48_4ac4_11e9_bfad_acde48001122row1_col1\" class=\"data row1 col1\" >$4.90</td> \n",
       "        <td id=\"T_ea0e5b48_4ac4_11e9_bfad_acde48001122row1_col2\" class=\"data row1 col2\" >$44.10</td> \n",
       "    </tr>    <tr> \n",
       "        <th id=\"T_ea0e5b48_4ac4_11e9_bfad_acde48001122level0_row2\" class=\"row_heading level0 row2\" >145</th> \n",
       "        <th id=\"T_ea0e5b48_4ac4_11e9_bfad_acde48001122level1_row2\" class=\"row_heading level1 row2\" >Fiery Glass Crusader</th> \n",
       "        <td id=\"T_ea0e5b48_4ac4_11e9_bfad_acde48001122row2_col0\" class=\"data row2 col0\" >9</td> \n",
       "        <td id=\"T_ea0e5b48_4ac4_11e9_bfad_acde48001122row2_col1\" class=\"data row2 col1\" >$4.58</td> \n",
       "        <td id=\"T_ea0e5b48_4ac4_11e9_bfad_acde48001122row2_col2\" class=\"data row2 col2\" >$41.22</td> \n",
       "    </tr>    <tr> \n",
       "        <th id=\"T_ea0e5b48_4ac4_11e9_bfad_acde48001122level0_row3\" class=\"row_heading level0 row3\" >92</th> \n",
       "        <th id=\"T_ea0e5b48_4ac4_11e9_bfad_acde48001122level1_row3\" class=\"row_heading level1 row3\" >Final Critic</th> \n",
       "        <td id=\"T_ea0e5b48_4ac4_11e9_bfad_acde48001122row3_col0\" class=\"data row3 col0\" >8</td> \n",
       "        <td id=\"T_ea0e5b48_4ac4_11e9_bfad_acde48001122row3_col1\" class=\"data row3 col1\" >$4.88</td> \n",
       "        <td id=\"T_ea0e5b48_4ac4_11e9_bfad_acde48001122row3_col2\" class=\"data row3 col2\" >$39.04</td> \n",
       "    </tr>    <tr> \n",
       "        <th id=\"T_ea0e5b48_4ac4_11e9_bfad_acde48001122level0_row4\" class=\"row_heading level0 row4\" >103</th> \n",
       "        <th id=\"T_ea0e5b48_4ac4_11e9_bfad_acde48001122level1_row4\" class=\"row_heading level1 row4\" >Singed Scalpel</th> \n",
       "        <td id=\"T_ea0e5b48_4ac4_11e9_bfad_acde48001122row4_col0\" class=\"data row4 col0\" >8</td> \n",
       "        <td id=\"T_ea0e5b48_4ac4_11e9_bfad_acde48001122row4_col1\" class=\"data row4 col1\" >$4.35</td> \n",
       "        <td id=\"T_ea0e5b48_4ac4_11e9_bfad_acde48001122row4_col2\" class=\"data row4 col2\" >$34.80</td> \n",
       "    </tr></tbody> \n",
       "</table> "
      ],
      "text/plain": [
       "<pandas.io.formats.style.Styler at 0x116d917b8>"
      ]
     },
     "execution_count": 48,
     "metadata": {},
     "output_type": "execute_result"
    }
   ],
   "source": [
    "item_details_sorted = item_details.sort_values('Total Purchase Value', ascending = False)\n",
    "\n",
    "item_details_sorted.head().style.format('${:,.2f}',subset=['Item Price','Total Purchase Value'])\n",
    "\n",
    "# item_details_sorted['Item Price'] = item_details_sorted['Item Price'].map('${:,.2f}'.format)\n",
    "# item_details_sorted['Total Purchase Value'] = item_details_sorted['Total Purchase Value'].map('${:,.2f}'.format)\n",
    "# item_details_sorted.head()"
   ]
  }
 ],
 "metadata": {
  "anaconda-cloud": {},
  "kernel_info": {
   "name": "python3"
  },
  "kernelspec": {
   "display_name": "Python 3",
   "language": "python",
   "name": "python3"
  },
  "language_info": {
   "codemirror_mode": {
    "name": "ipython",
    "version": 3
   },
   "file_extension": ".py",
   "mimetype": "text/x-python",
   "name": "python",
   "nbconvert_exporter": "python",
   "pygments_lexer": "ipython3",
   "version": "3.7.1"
  },
  "nteract": {
   "version": "0.2.0"
  }
 },
 "nbformat": 4,
 "nbformat_minor": 2
}
